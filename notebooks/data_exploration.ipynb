{
 "cells": [
  {
   "cell_type": "code",
   "execution_count": null,
   "id": "0a82b172",
   "metadata": {},
   "outputs": [],
   "source": [
    "import json\n",
    "from pathlib import Path\n",
    "import pandas as pd\n",
    "from tqdm import tqdm\n",
    "import matplotlib.pyplot as plt\n",
    "import random\n",
    "from preprocessing.law_reference_parser import parse_reference\n",
    "from pprint import pprint"
   ]
  },
  {
   "cell_type": "code",
   "execution_count": null,
   "id": "ef091b4f",
   "metadata": {},
   "outputs": [],
   "source": [
    "def flatten(xss):\n",
    "    \"\"\"Flattens a list of lists.\"\"\"\n",
    "    return [x for xs in xss for x in xs]"
   ]
  },
  {
   "cell_type": "code",
   "execution_count": null,
   "id": "e8cf152e",
   "metadata": {},
   "outputs": [],
   "source": [
    "def load_all_decisions(data_dir=\"../data/raw\") -> pd.DataFrame:\n",
    "    base_path = Path(data_dir)\n",
    "    records = []\n",
    "\n",
    "    for json_file in tqdm(base_path.rglob(\"page*.json\"), desc=\"Loading JSON files\"):\n",
    "        try:\n",
    "            with open(json_file, \"r\", encoding=\"utf-8\") as f:\n",
    "                data = json.load(f)\n",
    "            for item in data.get(\"items\", []):\n",
    "                records.append(item)\n",
    "        except Exception as e:\n",
    "            print(f\"Failed to load {json_file}: {e}\")\n",
    "\n",
    "    df = pd.DataFrame(records)\n",
    "    return df\n"
   ]
  },
  {
   "cell_type": "code",
   "execution_count": null,
   "id": "5d77441d",
   "metadata": {},
   "outputs": [],
   "source": [
    "df_decisions = load_all_decisions()"
   ]
  },
  {
   "cell_type": "code",
   "execution_count": null,
   "id": "cf5ed400",
   "metadata": {},
   "outputs": [],
   "source": [
    "df_decisions.head(10)"
   ]
  },
  {
   "cell_type": "code",
   "execution_count": null,
   "id": "0796aa42",
   "metadata": {},
   "outputs": [],
   "source": [
    "df_decisions.shape"
   ]
  },
  {
   "cell_type": "code",
   "execution_count": null,
   "id": "40f6263c",
   "metadata": {},
   "outputs": [],
   "source": []
  },
  {
   "cell_type": "code",
   "execution_count": null,
   "id": "71321614",
   "metadata": {},
   "outputs": [],
   "source": [
    "df_decisions.to_csv(\"../data/raw/court_decisions.csv\", index=False)"
   ]
  },
  {
   "cell_type": "code",
   "execution_count": null,
   "id": "12dcd896",
   "metadata": {},
   "outputs": [],
   "source": []
  },
  {
   "cell_type": "code",
   "execution_count": null,
   "id": "1876268e",
   "metadata": {},
   "outputs": [],
   "source": [
    "# Let's convert the two datetime columns to the proper dtypes\n",
    "df_decisions[\"datumVydani\"] = pd.to_datetime(df_decisions[\"datumVydani\"], errors=\"coerce\")\n",
    "df_decisions[\"datumZverejneni\"] = pd.to_datetime(df_decisions[\"datumZverejneni\"], errors=\"coerce\")\n"
   ]
  },
  {
   "cell_type": "code",
   "execution_count": null,
   "id": "b0affdc8",
   "metadata": {},
   "outputs": [],
   "source": [
    "# Looking at the table below, we see that there are some null rows\n",
    "# in the datumVydani column\n",
    "df_decisions.info()"
   ]
  },
  {
   "cell_type": "code",
   "execution_count": null,
   "id": "20fb8064",
   "metadata": {},
   "outputs": [],
   "source": [
    "# We will drop the 141 or so rows which have NaT as their datumVydani\n",
    "df_decisions = df_decisions[df_decisions[\"datumVydani\"].notna()]\n",
    "df_decisions.info()"
   ]
  },
  {
   "cell_type": "code",
   "execution_count": null,
   "id": "ff2747b5",
   "metadata": {},
   "outputs": [],
   "source": [
    "# There are also approximately 284 dates which are clearly typos. \n",
    "# We will also remove them.\n",
    "\n",
    "df_decisions = df_decisions[df_decisions[\"datumVydani\"].between(\"2015-01-01\", \"2025-12-31\")]\n",
    "df_decisions = df_decisions[df_decisions[\"datumZverejneni\"].between(\"2015-01-01\", \"2025-12-31\")]"
   ]
  },
  {
   "cell_type": "code",
   "execution_count": null,
   "id": "0c303b4b",
   "metadata": {},
   "outputs": [],
   "source": [
    "df_decisions.shape"
   ]
  },
  {
   "cell_type": "code",
   "execution_count": null,
   "id": "ba29d618",
   "metadata": {},
   "outputs": [],
   "source": [
    "print(df_decisions[[\"datumVydani\", \"datumZverejneni\"]].min())\n",
    "print(df_decisions[[\"datumVydani\", \"datumZverejneni\"]].max())"
   ]
  },
  {
   "cell_type": "code",
   "execution_count": null,
   "id": "3a847411",
   "metadata": {},
   "outputs": [],
   "source": [
    "# Release date seems to be unreliable, as there are cases which are on impossible dates.\n",
    "# This warrants a bit of further investigation"
   ]
  },
  {
   "cell_type": "code",
   "execution_count": null,
   "id": "5b615936",
   "metadata": {},
   "outputs": [],
   "source": [
    "list(df_decisions[\"soud\"].unique())"
   ]
  },
  {
   "cell_type": "code",
   "execution_count": null,
   "id": "75054a25",
   "metadata": {},
   "outputs": [],
   "source": []
  },
  {
   "cell_type": "markdown",
   "id": "be28e388",
   "metadata": {},
   "source": [
    "## Law references"
   ]
  },
  {
   "cell_type": "code",
   "execution_count": null,
   "id": "e271be1a",
   "metadata": {},
   "outputs": [],
   "source": [
    "# How many unique law refs are there? \n",
    "def extract_unique_refs(df: pd.DataFrame) -> set:\n",
    "    list_of_refs = flatten(list(df[\"zminenaUstanoveni\"]))\n",
    "    \n",
    "    return set(list_of_refs)"
   ]
  },
  {
   "cell_type": "code",
   "execution_count": null,
   "id": "a82c7c5e",
   "metadata": {},
   "outputs": [],
   "source": [
    "all_refs = list(extract_unique_refs(df_decisions))\n",
    "print(f\"Total distinct refs: {len(all_refs)}\")"
   ]
  },
  {
   "cell_type": "code",
   "execution_count": null,
   "id": "57c9a6e0",
   "metadata": {},
   "outputs": [],
   "source": [
    "all_refs"
   ]
  },
  {
   "cell_type": "code",
   "execution_count": null,
   "id": "e3851489",
   "metadata": {},
   "outputs": [],
   "source": [
    "ref = random.choice(all_refs)\n",
    "\n",
    "\n",
    "\n",
    "print(\"Original reference\")\n",
    "print(ref)\n",
    "\n",
    "print(\"\")\n",
    "print(\"Inferred dictionary:\")\n",
    "pprint(parse_reference(ref))"
   ]
  },
  {
   "cell_type": "markdown",
   "id": "5742e761",
   "metadata": {},
   "source": [
    "## Keywords"
   ]
  },
  {
   "cell_type": "code",
   "execution_count": null,
   "id": "58e37752",
   "metadata": {},
   "outputs": [],
   "source": [
    "# How many unique keywords are there? \n",
    "def extract_unique_keywords(df: pd.DataFrame) -> set:\n",
    "    list_of_kwords = flatten(list(df[\"klicovaSlova\"]))\n",
    "    \n",
    "    return set(list_of_kwords)"
   ]
  },
  {
   "cell_type": "code",
   "execution_count": null,
   "id": "76108396",
   "metadata": {},
   "outputs": [],
   "source": [
    "all_keywords = extract_unique_keywords(df_decisions)\n",
    "print(f\"Total distinct keywords: {len(all_keywords)}\")"
   ]
  },
  {
   "cell_type": "code",
   "execution_count": null,
   "id": "ce13519f",
   "metadata": {},
   "outputs": [],
   "source": [
    "all_keywords"
   ]
  },
  {
   "cell_type": "code",
   "execution_count": null,
   "id": "30b51f86",
   "metadata": {},
   "outputs": [],
   "source": [
    "# How many court cases per court?\n",
    "df_decisions.groupby(\"soud\").size().sort_values(ascending=False)"
   ]
  },
  {
   "cell_type": "code",
   "execution_count": null,
   "id": "67c367f4",
   "metadata": {},
   "outputs": [],
   "source": [
    "# Count decisions per day\n",
    "daily_counts = df_decisions[\"datumZverejneni\"].value_counts().sort_index()\n",
    "\n",
    "# Plot\n",
    "plt.figure(figsize=(15, 5))\n",
    "daily_counts.plot()\n",
    "plt.title(\"Number of Judicial Decisions per Day\")\n",
    "plt.xlabel(\"Date\")\n",
    "plt.ylabel(\"Number of Decisions\")\n",
    "plt.tight_layout()\n",
    "plt.show()\n"
   ]
  },
  {
   "cell_type": "code",
   "execution_count": null,
   "id": "7adb79ab",
   "metadata": {},
   "outputs": [],
   "source": [
    "# Extract year-month from the publication date\n",
    "df_decisions[\"month\"] = df_decisions[\"datumZverejneni\"].dt.to_period(\"M\")\n",
    "\n",
    "# Count decisions per month\n",
    "monthly_counts = df_decisions[\"month\"].value_counts().sort_index()\n",
    "\n",
    "# Plot\n",
    "monthly_counts.plot(kind=\"bar\", figsize=(15, 5))\n",
    "plt.title(\"Number of Judicial Decisions per Month\")\n",
    "plt.xlabel(\"Month\")\n",
    "plt.ylabel(\"Number of Decisions\")\n",
    "plt.tight_layout()\n",
    "plt.show()\n"
   ]
  },
  {
   "cell_type": "code",
   "execution_count": null,
   "id": "da581fff",
   "metadata": {},
   "outputs": [],
   "source": []
  }
 ],
 "metadata": {
  "kernelspec": {
   "display_name": "soudai-data-scraping-py3.12",
   "language": "python",
   "name": "python3"
  },
  "language_info": {
   "codemirror_mode": {
    "name": "ipython",
    "version": 3
   },
   "file_extension": ".py",
   "mimetype": "text/x-python",
   "name": "python",
   "nbconvert_exporter": "python",
   "pygments_lexer": "ipython3",
   "version": "3.12.3"
  }
 },
 "nbformat": 4,
 "nbformat_minor": 5
}
